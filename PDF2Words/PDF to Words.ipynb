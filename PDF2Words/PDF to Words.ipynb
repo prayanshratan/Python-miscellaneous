{
 "cells": [
  {
   "cell_type": "code",
   "execution_count": 5,
   "metadata": {},
   "outputs": [],
   "source": [
    "import PyPDF2"
   ]
  },
  {
   "cell_type": "code",
   "execution_count": 6,
   "metadata": {},
   "outputs": [],
   "source": [
    "#import textract\n",
    "from nltk.tokenize import word_tokenize\n",
    "from nltk.corpus import stopwords"
   ]
  },
  {
   "cell_type": "code",
   "execution_count": 8,
   "metadata": {},
   "outputs": [
    {
     "name": "stdout",
     "output_type": "stream",
     "text": [
      "['˘ˇˆˇ˙˝˛˚˜', '!', \"''\", '!', '#', '$', '%', '˘', '&', \"'\", '˙ˇ', '%', 'ˆ˙˝˝', 'ˆ', \"'\", '˛', '˛˚˚˘', '*', '˛˛˚˚', '!', '!', '!', '#', '˘˚', '%', '˝˙ˆ', '&', '˚', '#', '#', '2ˇ3', '˘', '/', '$', '#', '#', '+', '-', '.', '/', '-', '$', '.', '/', '˙', '.', '0ˇ123', \"''\", '!', '!', '``', '5', '6', '+-', '#', '&', '$', '˝', '˜', 'ˇ27', '!', '``', '5', '+-', '#', '&', '$', '˝', '21ˇ17', '!', \"''\", '$', '0', '#', '#', 'ˇ', '$', '&', '*', '/', '#', '--', '.', '/', '6', '&', '*', '/', '˝', ',8', \"''\", '2', '6', 'ˆ˝', '/', '#', '˙', '.', 'ˆ˝', '//', '&', \"''\", '0', '6', 'ˆ˝', '/', '6', '˙', '.', 'ˆ9', \"'\", '˝', '//', '˙', \"''\", '2', '6', '#', '0', '˘', '˚', \"'\", '%', '˛', '6', \"'\", '/', '--', '0', '+', '#', '˘', \"'\", '%', '&', '*', '/', '$', '/', '=', \"'\", '-', '$', '6', '-', '-/', '/', '-', '/', 'ˇ', '+˘', '#', '6', '#', '<', '#', '˘', \"'\", '%', '&', '*', '/', '$', '6˘', \"''\", '˚ˇ', '$', '˝', 'ˇ˘', '˚˝', '=', '˘', '>', '˚', '&', '$', '$', '$', '˘˚', '$', '˝', '0', '<', '#', '˘', '#', '#', '˘', '#', '˘˜', '22', \"'\", '%', '˙', '˙', '6', \"'\", '.', '-', '-', '$', \"'\", '/', 'ˇ', '#', '˘', '?', '?', '@', '.', '&', '*˚', '#', '˘', '&', 'A*', '&', \"/˝'˚\", '#', '˘4B', '˙', '$', '&', \"'\", '=', '.', '6-', 'C', '6˚', '0', '˘˛', \"'\", '6', '˛', \"'\", '˛', \"'\", '˛-', '--', '6ˆD9', \"'\", 'E˝', '//˚', \"'+\", \"'\", '>', '&', '%', \"'=\", '#', '-', \"'\", '+', '˝', '/', '.', '$', '#', '˙ˇ', 'ˇ', '%', '@', '˝', '/', '.', '$', '6˙ˇ']\n"
     ]
    }
   ],
   "source": [
    "filename = 'PrayanshRatanSrivastava_IT.pdf'\n",
    "pdfFileObj = open(filename, 'rb')\n",
    "pdfReader = PyPDF2.PdfFileReader(pdfFileObj)\n",
    "\n",
    "num_pages = pdfReader.numPages\n",
    "count = 0\n",
    "text = \"\"\n",
    "\n",
    "while count < num_pages:\n",
    "    pageObj = pdfReader.getPage(count)\n",
    "    count += 1\n",
    "    text += pageObj.extractText()\n",
    "    \n",
    "if text != \"\":\n",
    "    text = text\n",
    "\n",
    "\n",
    "tokens = word_tokenize(text)\n",
    "\n",
    "punctuations = ['(', ')', ';', ':', '[', ']', ',']\n",
    "\n",
    "stop_words = stopwords.words('english')\n",
    "\n",
    "keywords = [word for word in tokens if not word in stop_words and not word in punctuations]\n",
    "\n",
    "print (keywords)"
   ]
  },
  {
   "cell_type": "code",
   "execution_count": null,
   "metadata": {},
   "outputs": [],
   "source": []
  }
 ],
 "metadata": {
  "kernelspec": {
   "display_name": "Python 3",
   "language": "python",
   "name": "python3"
  },
  "language_info": {
   "codemirror_mode": {
    "name": "ipython",
    "version": 3
   },
   "file_extension": ".py",
   "mimetype": "text/x-python",
   "name": "python",
   "nbconvert_exporter": "python",
   "pygments_lexer": "ipython3",
   "version": "3.5.2"
  },
  "varInspector": {
   "cols": {
    "lenName": 16,
    "lenType": 16,
    "lenVar": 40
   },
   "kernels_config": {
    "python": {
     "delete_cmd_postfix": "",
     "delete_cmd_prefix": "del ",
     "library": "var_list.py",
     "varRefreshCmd": "print(var_dic_list())"
    },
    "r": {
     "delete_cmd_postfix": ") ",
     "delete_cmd_prefix": "rm(",
     "library": "var_list.r",
     "varRefreshCmd": "cat(var_dic_list()) "
    }
   },
   "types_to_exclude": [
    "module",
    "function",
    "builtin_function_or_method",
    "instance",
    "_Feature"
   ],
   "window_display": false
  }
 },
 "nbformat": 4,
 "nbformat_minor": 2
}
